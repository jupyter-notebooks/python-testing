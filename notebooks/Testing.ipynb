{
 "metadata": {
  "name": "Testing"
 },
 "nbformat": 3,
 "nbformat_minor": 0,
 "worksheets": [
  {
   "cells": [
    {
     "cell_type": "code",
     "collapsed": false,
     "input": [
      "cd python"
     ],
     "language": "python",
     "metadata": {},
     "outputs": [
      {
       "output_type": "stream",
       "stream": "stdout",
       "text": [
        "L:\\dev\\testing\\python\n"
       ]
      }
     ],
     "prompt_number": 6
    },
    {
     "cell_type": "code",
     "collapsed": false,
     "input": [
      "ls"
     ],
     "language": "python",
     "metadata": {},
     "outputs": [
      {
       "output_type": "stream",
       "stream": "stdout",
       "text": [
        " Volume in drive L has no label.\n",
        " Volume Serial Number is F81A-9A6C\n",
        "\n",
        " Directory of L:\\dev\\testing\\python\n",
        "\n",
        "04/16/2014  19:49    <DIR>          .\n",
        "04/16/2014  19:49    <DIR>          ..\n",
        "02/08/2014  20:46               546 portfolio1.py\n",
        "03/02/2014  15:24               912 portfolio2.py\n",
        "04/09/2014  18:14             1,739 portfolio3.py\n",
        "04/09/2014  18:13               249 porttest1.py\n",
        "04/09/2014  18:14               302 porttest2.py\n",
        "04/09/2014  22:52               379 porttest3.py\n",
        "04/12/2014  14:50               386 porttest3_broken.py\n",
        "04/09/2014  18:14               234 test_port1.py\n",
        "04/09/2014  18:14               478 test_port2.py\n",
        "04/09/2014  18:14               527 test_port2_broken.py\n",
        "04/09/2014  18:14               505 test_port3.py\n",
        "04/09/2014  18:14               503 test_port3_broken.py\n",
        "04/09/2014  18:14               507 test_port3_broken2.py\n",
        "04/09/2014  18:14               728 test_port3b.py\n",
        "04/09/2014  18:14               628 test_port4.py\n",
        "04/09/2014  18:14               581 test_port4_broken.py\n",
        "04/09/2014  18:14             1,618 test_port5.py\n",
        "04/09/2014  18:14             1,405 test_port6.py\n",
        "04/09/2014  18:14             1,662 test_port7.py\n",
        "04/09/2014  18:14             1,969 test_port8.py\n",
        "04/09/2014  18:14             1,958 test_port9.py\n",
        "              21 File(s)         17,816 bytes\n",
        "               2 Dir(s)   1,012,412,416 bytes free\n"
       ]
      }
     ],
     "prompt_number": 7
    },
    {
     "cell_type": "code",
     "collapsed": false,
     "input": [
      "%load portfolio1.py"
     ],
     "language": "python",
     "metadata": {},
     "outputs": [],
     "prompt_number": 8
    },
    {
     "cell_type": "code",
     "collapsed": false,
     "input": [
      "# portfolio1.py\n",
      "\n",
      "class Portfolio(object):\n",
      "    \"\"\"A simple stock portfolio\"\"\"\n",
      "    def __init__(self):\n",
      "        # stocks is a list of lists:\n",
      "        #   [[name, shares, price], ...]\n",
      "        self.stocks = []\n",
      "\n",
      "    def buy(self, name, shares, price):\n",
      "        \"\"\"Buy `name`: `shares` shares at `price`.\"\"\"\n",
      "        self.stocks.append([name, shares, price])\n",
      "\n",
      "    def cost(self):\n",
      "        \"\"\"What was the total cost of this portfolio?\"\"\"\n",
      "        amt = 0.0\n",
      "        for name, shares, price in self.stocks:\n",
      "            amt += shares * price\n",
      "        return amt\n"
     ],
     "language": "python",
     "metadata": {},
     "outputs": [],
     "prompt_number": 10
    },
    {
     "cell_type": "code",
     "collapsed": false,
     "input": [
      "p = Portfolio()"
     ],
     "language": "python",
     "metadata": {},
     "outputs": [],
     "prompt_number": 11
    },
    {
     "cell_type": "code",
     "collapsed": false,
     "input": [
      "p.cost()"
     ],
     "language": "python",
     "metadata": {},
     "outputs": [
      {
       "metadata": {},
       "output_type": "pyout",
       "prompt_number": 12,
       "text": [
        "0.0"
       ]
      }
     ],
     "prompt_number": 12
    },
    {
     "cell_type": "code",
     "collapsed": false,
     "input": [
      "p.buy('IBM', 100, 176.48)"
     ],
     "language": "python",
     "metadata": {},
     "outputs": [],
     "prompt_number": 13
    },
    {
     "cell_type": "code",
     "collapsed": false,
     "input": [
      "p.cost()"
     ],
     "language": "python",
     "metadata": {},
     "outputs": [
      {
       "metadata": {},
       "output_type": "pyout",
       "prompt_number": 14,
       "text": [
        "17648.0"
       ]
      }
     ],
     "prompt_number": 14
    },
    {
     "cell_type": "code",
     "collapsed": false,
     "input": [
      "p.buy('HPQ', 100, 36.15)\n",
      "p.cost()"
     ],
     "language": "python",
     "metadata": {},
     "outputs": [
      {
       "metadata": {},
       "output_type": "pyout",
       "prompt_number": 15,
       "text": [
        "21263.0"
       ]
      }
     ],
     "prompt_number": 15
    },
    {
     "cell_type": "code",
     "collapsed": false,
     "input": [
      "%load porttest1.py"
     ],
     "language": "python",
     "metadata": {},
     "outputs": [],
     "prompt_number": 16
    },
    {
     "cell_type": "code",
     "collapsed": false,
     "input": [
      "# porttest1.py\n",
      "from portfolio1 import Portfolio\n",
      "\n",
      "p = Portfolio()\n",
      "print \"Empty portfolio cost: %s\" % p.cost()\n",
      "p.buy(\"IBM\", 100, 176.48)\n",
      "print \"With 100 IBM @ 176.48: %s\" % p.cost()\n",
      "p.buy(\"HPQ\", 100, 36.15)\n",
      "print \"With 100 HPQ @ 36.15: %s\" % p.cost()\n"
     ],
     "language": "python",
     "metadata": {},
     "outputs": [
      {
       "output_type": "stream",
       "stream": "stdout",
       "text": [
        "Empty portfolio cost: 0.0\n",
        "With 100 IBM @ 176.48: 17648.0\n",
        "With 100 HPQ @ 36.15: 21263.0\n"
       ]
      }
     ],
     "prompt_number": 17
    },
    {
     "cell_type": "code",
     "collapsed": false,
     "input": [
      "%load porttest2.py"
     ],
     "language": "python",
     "metadata": {},
     "outputs": [],
     "prompt_number": 18
    },
    {
     "cell_type": "code",
     "collapsed": false,
     "input": [
      "# porttest2.py\n",
      "from portfolio1 import Portfolio\n",
      "\n",
      "p = Portfolio()\n",
      "print \"Empty portfolio cost: %s, should be 0.0\" % p.cost()\n",
      "p.buy(\"IBM\", 100, 176.48)\n",
      "print \"With 100 IBM @ 176.48: %s, should be 17648.0\" % p.cost()\n",
      "p.buy(\"HPQ\", 100, 36.15)\n",
      "print \"With 100 HPQ @ 36.15: %s, should be 21263.0\" % p.cost()\n"
     ],
     "language": "python",
     "metadata": {},
     "outputs": [
      {
       "output_type": "stream",
       "stream": "stdout",
       "text": [
        "Empty portfolio cost: 0.0, should be 0.0\n",
        "With 100 IBM @ 176.48: 17648.0, should be 17648.0\n",
        "With 100 HPQ @ 36.15: 21263.0, should be 21263.0\n"
       ]
      }
     ],
     "prompt_number": 19
    },
    {
     "cell_type": "raw",
     "metadata": {},
     "source": [
      "Good: repeatable with low effort\n",
      "Better: explicit expected results\n",
      "Bad: have to check the results yourself"
     ]
    },
    {
     "cell_type": "code",
     "collapsed": false,
     "input": [
      "%load porttest3.py"
     ],
     "language": "python",
     "metadata": {},
     "outputs": [],
     "prompt_number": 20
    },
    {
     "cell_type": "code",
     "collapsed": false,
     "input": [
      "# porttest3.py\n",
      "from portfolio1 import Portfolio\n",
      "\n",
      "p = Portfolio()\n",
      "print \"Empty portfolio cost: %s, should be 0.0\" % p.cost()\n",
      "assert p.cost() == 0.0\n",
      "p.buy(\"IBM\", 100, 176.48)\n",
      "print \"With 100 IBM @ 176.48: %s, should be 17648.0\" % p.cost()\n",
      "assert p.cost() == 17648.0\n",
      "p.buy(\"HPQ\", 100, 36.15)\n",
      "print \"With 100 HPQ @ 36.15: %s, should be 21263.0\" % p.cost()\n",
      "assert p.cost() == 21263.0\n"
     ],
     "language": "python",
     "metadata": {},
     "outputs": [
      {
       "output_type": "stream",
       "stream": "stdout",
       "text": [
        "Empty portfolio cost: 0.0, should be 0.0\n",
        "With 100 IBM @ 176.48: 17648.0, should be 17648.0\n",
        "With 100 HPQ @ 36.15: 21263.0, should be 21263.0\n"
       ]
      }
     ],
     "prompt_number": 21
    },
    {
     "cell_type": "raw",
     "metadata": {},
     "source": [
      "Good: repeatable with low effort\n",
      "Good: explicit expected results\n",
      "Good: results checked automatically"
     ]
    },
    {
     "cell_type": "code",
     "collapsed": false,
     "input": [
      "%load porttest3_broken.py"
     ],
     "language": "python",
     "metadata": {},
     "outputs": [],
     "prompt_number": 23
    },
    {
     "cell_type": "code",
     "collapsed": false,
     "input": [
      "# porttest3_broken.py\n",
      "from portfolio1 import Portfolio\n",
      "\n",
      "p = Portfolio()\n",
      "print \"Empty portfolio cost: %s, should be 0.0\" % p.cost()\n",
      "assert p.cost() == 0.0\n",
      "p.buy(\"IBM\", 100, 176.48)\n",
      "print \"With 100 IBM @ 176.48: %s, should be 17600.0\" % p.cost()\n",
      "assert p.cost() == 17600.0\n",
      "p.buy(\"HPQ\", 100, 36.15)\n",
      "print \"With 100 HPQ @ 36.15: %s, should be 21263.0\" % p.cost()\n",
      "assert p.cost() == 21263.0\n"
     ],
     "language": "python",
     "metadata": {},
     "outputs": [
      {
       "ename": "AssertionError",
       "evalue": "",
       "output_type": "pyerr",
       "traceback": [
        "\u001b[1;31m---------------------------------------------------------------------------\u001b[0m\n\u001b[1;31mAssertionError\u001b[0m                            Traceback (most recent call last)",
        "\u001b[1;32m<ipython-input-24-eee07c092fcd>\u001b[0m in \u001b[0;36m<module>\u001b[1;34m()\u001b[0m\n\u001b[0;32m      7\u001b[0m \u001b[0mp\u001b[0m\u001b[1;33m.\u001b[0m\u001b[0mbuy\u001b[0m\u001b[1;33m(\u001b[0m\u001b[1;34m\"IBM\"\u001b[0m\u001b[1;33m,\u001b[0m \u001b[1;36m100\u001b[0m\u001b[1;33m,\u001b[0m \u001b[1;36m176.48\u001b[0m\u001b[1;33m)\u001b[0m\u001b[1;33m\u001b[0m\u001b[0m\n\u001b[0;32m      8\u001b[0m \u001b[1;32mprint\u001b[0m \u001b[1;34m\"With 100 IBM @ 176.48: %s, should be 17600.0\"\u001b[0m \u001b[1;33m%\u001b[0m \u001b[0mp\u001b[0m\u001b[1;33m.\u001b[0m\u001b[0mcost\u001b[0m\u001b[1;33m(\u001b[0m\u001b[1;33m)\u001b[0m\u001b[1;33m\u001b[0m\u001b[0m\n\u001b[1;32m----> 9\u001b[1;33m \u001b[1;32massert\u001b[0m \u001b[0mp\u001b[0m\u001b[1;33m.\u001b[0m\u001b[0mcost\u001b[0m\u001b[1;33m(\u001b[0m\u001b[1;33m)\u001b[0m \u001b[1;33m==\u001b[0m \u001b[1;36m17600.0\u001b[0m\u001b[1;33m\u001b[0m\u001b[0m\n\u001b[0m\u001b[0;32m     10\u001b[0m \u001b[0mp\u001b[0m\u001b[1;33m.\u001b[0m\u001b[0mbuy\u001b[0m\u001b[1;33m(\u001b[0m\u001b[1;34m\"HPQ\"\u001b[0m\u001b[1;33m,\u001b[0m \u001b[1;36m100\u001b[0m\u001b[1;33m,\u001b[0m \u001b[1;36m36.15\u001b[0m\u001b[1;33m)\u001b[0m\u001b[1;33m\u001b[0m\u001b[0m\n\u001b[0;32m     11\u001b[0m \u001b[1;32mprint\u001b[0m \u001b[1;34m\"With 100 HPQ @ 36.15: %s, should be 21263.0\"\u001b[0m \u001b[1;33m%\u001b[0m \u001b[0mp\u001b[0m\u001b[1;33m.\u001b[0m\u001b[0mcost\u001b[0m\u001b[1;33m(\u001b[0m\u001b[1;33m)\u001b[0m\u001b[1;33m\u001b[0m\u001b[0m\n",
        "\u001b[1;31mAssertionError\u001b[0m: "
       ]
      },
      {
       "output_type": "stream",
       "stream": "stdout",
       "text": [
        "Empty portfolio cost: 0.0, should be 0.0\n",
        "With 100 IBM @ 176.48: 17648.0, should be 17600.0\n"
       ]
      }
     ],
     "prompt_number": 24
    },
    {
     "cell_type": "raw",
     "metadata": {},
     "source": [
      "Good: repeatable with low effort\n",
      "Good: explicit expected results, checked automatically\n",
      "OK: visible failure, but cluttered output\n",
      "Bad: failure stops tests"
     ]
    },
    {
     "cell_type": "heading",
     "level": 3,
     "metadata": {},
     "source": [
      "Good Tests"
     ]
    },
    {
     "cell_type": "raw",
     "metadata": {},
     "source": [
      "Automated\n",
      "Fast\n",
      "Reliable\n",
      "Informative\n",
      "Focused"
     ]
    },
    {
     "cell_type": "heading",
     "level": 3,
     "metadata": {},
     "source": [
      "unittest"
     ]
    },
    {
     "cell_type": "raw",
     "metadata": {},
     "source": [
      "unittest\n",
      "python standard library\n",
      "infrastructure for well-structured tests\n",
      "jUnit, cppUnit, xUnit"
     ]
    },
    {
     "cell_type": "code",
     "collapsed": false,
     "input": [
      "%load test_port1.py"
     ],
     "language": "python",
     "metadata": {},
     "outputs": [],
     "prompt_number": 25
    },
    {
     "cell_type": "code",
     "collapsed": false,
     "input": [
      "# test_port1.py\n",
      "\n",
      "import unittest\n",
      "from portfolio1 import Portfolio\n",
      "\n",
      "class PortfolioTest(unittest.TestCase):\n",
      "    def test_buy_one_stock(self):\n",
      "        p = Portfolio()\n",
      "        p.buy(\"IBM\", 100, 176.48)\n",
      "        assert p.cost() == 17648.0\n"
     ],
     "language": "python",
     "metadata": {},
     "outputs": [],
     "prompt_number": 27
    },
    {
     "cell_type": "raw",
     "metadata": {},
     "source": [
      "L:\\dev\\testing\\python>python -m unittest test_port1\n",
      ".\n",
      "----------------------------------------------------------------------\n",
      "Ran 1 test in 0.000s\n",
      "\n",
      "OK"
     ]
    },
    {
     "cell_type": "code",
     "collapsed": false,
     "input": [
      "# Under the covers\n",
      "\n",
      "# unittest runs the tests as if I had written:\n",
      "testcase: PortfolioTest()\n",
      "try:\n",
      "    testcase.test_buy_one_stock()\n",
      "except AssertionError:\n",
      "    # [record failure]\n",
      "else:\n",
      "    # [record success]"
     ],
     "language": "python",
     "metadata": {},
     "outputs": []
    },
    {
     "cell_type": "heading",
     "level": 3,
     "metadata": {},
     "source": [
      "Add more tests"
     ]
    },
    {
     "cell_type": "code",
     "collapsed": false,
     "input": [
      "%load test_port2.py"
     ],
     "language": "python",
     "metadata": {},
     "outputs": [],
     "prompt_number": 29
    },
    {
     "cell_type": "code",
     "collapsed": false,
     "input": [
      "# test_port2.py\n",
      "\n",
      "import unittest\n",
      "from portfolio1 import Portfolio\n",
      "\n",
      "class PortfolioTest(unittest.TestCase):\n",
      "    def test_empty(self):\n",
      "        p = Portfolio()\n",
      "        assert p.cost() == 0.0\n",
      "\n",
      "    def test_buy_one_stock(self):\n",
      "        p = Portfolio()\n",
      "        p.buy(\"IBM\", 100, 176.48)\n",
      "        assert p.cost() == 17648.0\n",
      "\n",
      "    def test_buy_two_stocks(self):\n",
      "        p = Portfolio()\n",
      "        p.buy(\"IBM\", 100, 176.48)\n",
      "        p.buy(\"HPQ\", 100, 36.15)\n",
      "        assert p.cost() == 21263.0\n"
     ],
     "language": "python",
     "metadata": {},
     "outputs": []
    },
    {
     "cell_type": "raw",
     "metadata": {},
     "source": [
      "L:\\dev\\testing\\python>python -m unittest test_port1\n",
      ".\n",
      "----------------------------------------------------------------------\n",
      "Ran 1 test in 0.000s\n",
      "\n",
      "OK\n",
      "\n",
      "L:\\dev\\testing\\python>python -m unittest test_port2\n",
      "...\n",
      "----------------------------------------------------------------------\n",
      "Ran 3 tests in 0.001s\n",
      "\n",
      "OK"
     ]
    },
    {
     "cell_type": "code",
     "collapsed": false,
     "input": [
      "# Under the covers\n",
      "# instantiates a new object for each method tested\n",
      "\n",
      "# unittest runs the tests as if I had written:\n",
      "testcase: PortfolioTest()\n",
      "try:\n",
      "    testcase.test_empty()\n",
      "except AssertionError:\n",
      "    # [record failure]\n",
      "else:\n",
      "    # [record success]\n",
      "\n",
      "testcase: PortfolioTest()\n",
      "try:\n",
      "    testcase.test_buy_one_stock()\n",
      "except AssertionError:\n",
      "    # [record failure]\n",
      "else:\n",
      "    # [record success]\n",
      "\n",
      "testcase: PortfolioTest()\n",
      "try:\n",
      "    testcase.test_buy_two_stocks()\n",
      "except AssertionError:\n",
      "    # [record failure]\n",
      "else:\n",
      "    # [record success]"
     ],
     "language": "python",
     "metadata": {},
     "outputs": []
    },
    {
     "cell_type": "heading",
     "level": 3,
     "metadata": {},
     "source": [
      "Test Isolation"
     ]
    },
    {
     "cell_type": "raw",
     "metadata": {},
     "source": [
      "every test gets a new test object\n",
      "tests can't affect each other\n",
      "failure doesn't stop next tests"
     ]
    },
    {
     "cell_type": "heading",
     "level": 3,
     "metadata": {},
     "source": [
      "What failure looks like"
     ]
    },
    {
     "cell_type": "code",
     "collapsed": false,
     "input": [
      "%load test_port2_broken.py"
     ],
     "language": "python",
     "metadata": {},
     "outputs": [],
     "prompt_number": 31
    },
    {
     "cell_type": "code",
     "collapsed": false,
     "input": [
      "# test_port2_broken.py\n",
      "\n",
      "import unittest\n",
      "from portfolio1 import Portfolio\n",
      "\n",
      "class PortfolioTest(unittest.TestCase):\n",
      "    def test_empty(self):\n",
      "        p = Portfolio()\n",
      "        assert p.cost() == 0.0\n",
      "\n",
      "    def test_buy_one_stock(self):\n",
      "        p = Portfolio()\n",
      "        p.buy(\"IBM\", 100, 176)      # this is wrong, to make the test fail!\n",
      "        assert p.cost() == 17648.0\n",
      "\n",
      "    def test_buy_two_stocks(self):\n",
      "        p = Portfolio()\n",
      "        p.buy(\"IBM\", 100, 176.48)\n",
      "        p.buy(\"HPQ\", 100, 36.15)\n",
      "        assert p.cost() == 21263.0\n"
     ],
     "language": "python",
     "metadata": {},
     "outputs": []
    },
    {
     "cell_type": "raw",
     "metadata": {},
     "source": [
      "L:\\dev\\testing\\python>python -m unittest test_port2_broken\n",
      "F..\n",
      "======================================================================\n",
      "FAIL: test_buy_one_stock (test_port2_broken.PortfolioTest)\n",
      "----------------------------------------------------------------------\n",
      "Traceback (most recent call last):\n",
      "  File \"test_port2_broken.py\", line 14, in test_buy_one_stock\n",
      "    assert p.cost() == 17648.0\n",
      "AssertionError\n",
      "\n",
      "----------------------------------------------------------------------\n",
      "Ran 3 tests in 0.000s\n",
      "\n",
      "FAILED (failures=1)"
     ]
    },
    {
     "cell_type": "raw",
     "metadata": {},
     "source": [
      "Better: Failed test didn't stop others\n",
      "Bad: what value was returned?"
     ]
    },
    {
     "cell_type": "heading",
     "level": 3,
     "metadata": {},
     "source": [
      "unittest assert helpers"
     ]
    },
    {
     "cell_type": "code",
     "collapsed": false,
     "input": [
      "%load test_port3_broken.py"
     ],
     "language": "python",
     "metadata": {},
     "outputs": [],
     "prompt_number": 32
    },
    {
     "cell_type": "code",
     "collapsed": false,
     "input": [
      "# test_port3.py\n",
      "# assertEqual method on the TestCase object\n",
      "# better for testing equality than just assert,\n",
      "# more descriptive of the symptoms of the error\n",
      "\n",
      "import unittest\n",
      "from portfolio1 import Portfolio\n",
      "\n",
      "class PortfolioTest(unittest.TestCase):\n",
      "    def test_empty(self):\n",
      "        p = Portfolio()\n",
      "        self.assertEqual(p.cost(), 0.0)\n",
      "\n",
      "    def test_buy_one_stock(self):\n",
      "        p = Portfolio()\n",
      "        p.buy(\"IBM\", 100, 176.)\n",
      "        self.assertEqual(p.cost(), 17648.0)\n",
      "\n",
      "    def test_buy_two_stocks(self):\n",
      "        p = Portfolio()\n",
      "        p.buy(\"IBM\", 100, 176.48)\n",
      "        p.buy(\"HPQ\", 100, 36.15)\n",
      "        self.assertEqual(p.cost(), 21263.0)\n"
     ],
     "language": "python",
     "metadata": {},
     "outputs": []
    },
    {
     "cell_type": "raw",
     "metadata": {},
     "source": [
      "L:\\dev\\testing\\python>python -m unittest test_port3_broken\n",
      "F..\n",
      "======================================================================\n",
      "FAIL: test_buy_one_stock (test_port3_broken.PortfolioTest)\n",
      "----------------------------------------------------------------------\n",
      "Traceback (most recent call last):\n",
      "  File \"test_port3_broken.py\", line 14, in test_buy_one_stock\n",
      "    self.assertEqual(p.cost(), 17648.0)\n",
      "AssertionError: 17600.0 != 17648.0\n",
      "\n",
      "----------------------------------------------------------------------\n",
      "Ran 3 tests in 0.000s\n",
      "\n",
      "FAILED (failures=1)"
     ]
    },
    {
     "cell_type": "heading",
     "level": 3,
     "metadata": {},
     "source": [
      "Lots of assert helpers"
     ]
    },
    {
     "cell_type": "raw",
     "metadata": {},
     "source": [
      "assertEqual(first, second)\n",
      "assertNotEqual(first, second)\n",
      "assertTrue(expr)\n",
      "assertFalse(expr)\n",
      "assertIn(first, second)\n",
      "assertNotIn(first, second)\n",
      "assertIs(first, second)\n",
      "assertIsNot(first, second)\n",
      "assertAlmostEqual(first, second)         ...floating point\n",
      "assertNotAlmostEqual(first, second)      ...floating point\n",
      "assertGreater(first, second)\n",
      "assertLess(first, second)\n",
      "assertRegexpMatches(text, regexp)        ...regex pattern\n",
      "assertRaises(exc_class, func, ...)\n",
      "assertSequenceEqual(seq1, seq2)\n",
      "assertItemsEqual(seq1, seq2)\n",
      "\n",
      "...etc..."
     ]
    },
    {
     "cell_type": "heading",
     "level": 3,
     "metadata": {},
     "source": [
      "Pro tip: Your own base class"
     ]
    },
    {
     "cell_type": "code",
     "collapsed": false,
     "input": [
      "%load test_port3b.py"
     ],
     "language": "python",
     "metadata": {},
     "outputs": [],
     "prompt_number": 37
    },
    {
     "cell_type": "code",
     "collapsed": false,
     "input": [
      "# test_port3b.py\n",
      "# write really good domain specific helpers\n",
      "# condense tests e.g. use one method to test two values\n",
      "\n",
      "\n",
      "import unittest\n",
      "from portfolio1 import Portfolio\n",
      "\n",
      "class PortfolioTestCase(unittest.TestCase):\n",
      "    \"\"\"Base class for all Portfolio tests.\"\"\"\n",
      "\n",
      "    def assertCostEqual(self, p, cost):\n",
      "        \"\"\"Assert that `p`'s cost is equal to `cost`.\"\"\"\n",
      "        self.assertEqual(p.cost(), cost)\n",
      "\n",
      "\n",
      "class PortfolioTest(PortfolioTestCase):\n",
      "    def test_empty(self):\n",
      "        p = Portfolio()\n",
      "        self.assertCostEqual(p, 0.0)\n",
      "\n",
      "    def test_buy_one_stock(self):\n",
      "        p = Portfolio()\n",
      "        p.buy(\"IBM\", 100, 176.48)\n",
      "        self.assertCostEqual(p, 17648.0)\n",
      "\n",
      "    def test_buy_two_stocks(self):\n",
      "        p = Portfolio()\n",
      "        p.buy(\"IBM\", 100, 176.48)\n",
      "        p.buy(\"HPQ\", 100, 36.15)\n",
      "        self.assertCostEqual(p, 21263.0)\n"
     ],
     "language": "python",
     "metadata": {},
     "outputs": []
    },
    {
     "cell_type": "raw",
     "metadata": {},
     "source": [
      "L:\\dev\\testing\\python>python -m unittest test_port3b\n",
      "...\n",
      "----------------------------------------------------------------------\n",
      "Ran 3 tests in 0.000s\n",
      "\n",
      "OK"
     ]
    },
    {
     "cell_type": "raw",
     "metadata": {},
     "source": [
      "L:\\dev\\testing\\python>python -m unittest test_port4\n",
      "....\n",
      "----------------------------------------------------------------------\n",
      "Ran 4 tests in 0.001s\n",
      "\n",
      "OK"
     ]
    },
    {
     "cell_type": "heading",
     "level": 3,
     "metadata": {},
     "source": [
      "assertRaises"
     ]
    },
    {
     "cell_type": "code",
     "collapsed": false,
     "input": [
      "%load test_port4_broken.py"
     ],
     "language": "python",
     "metadata": {},
     "outputs": [],
     "prompt_number": 39
    },
    {
     "cell_type": "code",
     "collapsed": false,
     "input": [
      "# test_port4.py\n",
      "\n",
      "import unittest\n",
      "from portfolio1 import Portfolio\n",
      "\n",
      "class PortfolioTest(unittest.TestCase):\n",
      "    def test_empty(self):\n",
      "        p = Portfolio()\n",
      "        self.assertEqual(p.cost(), 0.0)\n",
      "\n",
      "    def test_buy_one_stock(self):\n",
      "        p = Portfolio()\n",
      "        p.buy(\"IBM\", 100, 176.48)\n",
      "        self.assertEqual(p.cost(), 17648.0)\n",
      "\n",
      "    def test_buy_two_stocks(self):\n",
      "        p = Portfolio()\n",
      "        p.buy(\"IBM\", 100, 176.48)\n",
      "        p.buy(\"HPQ\", 100, 36.15)\n",
      "        self.assertEqual(p.cost(), 21263.0)\n",
      "\n",
      "    def test_bad_input(self):\n",
      "        p = Portfolio()\n",
      "        # we can't have test raise an actual Exception\n",
      "        # when we call methods on the object we're testing\n",
      "        # since that will raise an exception and\n",
      "        # cause an Error in the test\n",
      "        p.buy(\"IBM\")\n"
     ],
     "language": "python",
     "metadata": {},
     "outputs": []
    },
    {
     "cell_type": "raw",
     "metadata": {},
     "source": [
      "L:\\dev\\testing\\python>python -m unittest test_port4_broken\n",
      "E...\n",
      "======================================================================\n",
      "ERROR: test_bad_input (test_port4_broken.PortfolioTest)\n",
      "----------------------------------------------------------------------\n",
      "Traceback (most recent call last):\n",
      "  File \"test_port4_broken.py\", line 24, in test_bad_input\n",
      "    p.buy(\"IBM\")\n",
      "TypeError: buy() takes exactly 4 arguments (2 given)\n",
      "\n",
      "----------------------------------------------------------------------\n",
      "Ran 4 tests in 0.000s\n",
      "\n",
      "FAILED (errors=1)"
     ]
    },
    {
     "cell_type": "code",
     "collapsed": false,
     "input": [
      "%load test_port4.py"
     ],
     "language": "python",
     "metadata": {},
     "outputs": [],
     "prompt_number": 42
    },
    {
     "cell_type": "code",
     "collapsed": false,
     "input": [
      "# test_port4.py\n",
      "\n",
      "import unittest\n",
      "from portfolio1 import Portfolio\n",
      "\n",
      "class PortfolioTest(unittest.TestCase):\n",
      "    def test_empty(self):\n",
      "        p = Portfolio()\n",
      "        self.assertEqual(p.cost(), 0.0)\n",
      "\n",
      "    def test_buy_one_stock(self):\n",
      "        p = Portfolio()\n",
      "        p.buy(\"IBM\", 100, 176.48)\n",
      "        self.assertEqual(p.cost(), 17648.0)\n",
      "\n",
      "    def test_buy_two_stocks(self):\n",
      "        p = Portfolio()\n",
      "        p.buy(\"IBM\", 100, 176.48)\n",
      "        p.buy(\"HPQ\", 100, 36.15)\n",
      "        self.assertEqual(p.cost(), 21263.0)\n",
      "\n",
      "    def test_bad_input(self):\n",
      "        p = Portfolio()\n",
      "        # Use a context manager to catch the exception\n",
      "        # and assertRaises to see if the exception was\n",
      "        # of the correct type\n",
      "        with self.assertRaises(TypeError):\n",
      "            p.buy(\"IBM\")\n"
     ],
     "language": "python",
     "metadata": {},
     "outputs": []
    },
    {
     "cell_type": "raw",
     "metadata": {},
     "source": [
      "L:\\dev\\testing\\python>python -m unittest test_port4\n",
      "....\n",
      "----------------------------------------------------------------------\n",
      "Ran 4 tests in 0.001s\n",
      "\n",
      "OK"
     ]
    },
    {
     "cell_type": "heading",
     "level": 3,
     "metadata": {},
     "source": [
      "setUp and tearDown"
     ]
    },
    {
     "cell_type": "code",
     "collapsed": false,
     "input": [
      "%load portfolio2.py"
     ],
     "language": "python",
     "metadata": {},
     "outputs": [],
     "prompt_number": 45
    },
    {
     "cell_type": "code",
     "collapsed": false,
     "input": [
      "# portfolio2.py\n",
      "# adding a sell method\n",
      "\n",
      "class Portfolio(object):\n",
      "    \"\"\"A simple stock portfolio\"\"\"\n",
      "    def __init__(self):\n",
      "        # stocks is a list of lists:\n",
      "        #   [[name, shares, price], ...]\n",
      "        self.stocks = []\n",
      "\n",
      "    def buy(self, name, shares, price):\n",
      "        \"\"\"Buy `name`: `shares` shares at `price`.\"\"\"\n",
      "        self.stocks.append([name, shares, price])\n",
      "\n",
      "    def cost(self):\n",
      "        \"\"\"What was the total cost of this portfolio?\"\"\"\n",
      "        amt = 0.0\n",
      "        for name, shares, price in self.stocks:\n",
      "            amt += shares * price\n",
      "        return amt\n",
      "\n",
      "    def sell(self, name, shares):\n",
      "        \"\"\"Sell some shares.\"\"\"\n",
      "        for holding in self.stocks:\n",
      "            if holding[0] == name:\n",
      "                if holding[1] < shares:\n",
      "                    raise ValueError(\"Not enough shares\")\n",
      "                holding[1] -= shares\n",
      "                break\n",
      "        else:\n",
      "            raise ValueError(\"You don't own that stock\")\n"
     ],
     "language": "python",
     "metadata": {},
     "outputs": [],
     "prompt_number": 46
    },
    {
     "cell_type": "code",
     "collapsed": false,
     "input": [
      "%load test_port5.py"
     ],
     "language": "python",
     "metadata": {},
     "outputs": [],
     "prompt_number": 43
    },
    {
     "cell_type": "code",
     "collapsed": false,
     "input": [
      "# test_port5.py\n",
      "# Here we have setup code in each method that can be factored out\n",
      "\n",
      "import unittest\n",
      "from portfolio2 import Portfolio\n",
      "\n",
      "class PortfolioTestCase(unittest.TestCase):\n",
      "    \"\"\"Base class for all Portfolio tests.\"\"\"\n",
      "\n",
      "    def assertCostEqual(self, p, cost):\n",
      "        \"\"\"Assert that `p`'s cost is equal to `cost`.\"\"\"\n",
      "        self.assertEqual(p.cost(), cost)\n",
      "\n",
      "\n",
      "class PortfolioTest(PortfolioTestCase):\n",
      "    def test_empty(self):\n",
      "        p = Portfolio()\n",
      "        self.assertCostEqual(p, 0.0)\n",
      "\n",
      "    def test_buy_one_stock(self):\n",
      "        p = Portfolio()\n",
      "        p.buy(\"IBM\", 100, 176.48)\n",
      "        self.assertCostEqual(p, 17648.0)\n",
      "\n",
      "    def test_buy_two_stocks(self):\n",
      "        p = Portfolio()\n",
      "        p.buy(\"IBM\", 100, 176.48)\n",
      "        p.buy(\"HPQ\", 100, 36.15)\n",
      "        self.assertCostEqual(p, 21263.0)\n",
      "\n",
      "    def test_bad_input(self):\n",
      "        p = Portfolio()\n",
      "        self.assertRaises(TypeError, p.buy, \"IBM\")\n",
      "\n",
      "class PortfolioSellTest(PortfolioTestCase):\n",
      "    def test_sell(self):\n",
      "        p = Portfolio()\n",
      "        p.buy(\"MSFT\", 100, 27.0)\n",
      "        p.buy(\"DELL\", 100, 17.0)\n",
      "        p.buy(\"ORCL\", 100, 34.0)\n",
      "        p.sell(\"MSFT\", 50)\n",
      "        self.assertCostEqual(p, 6450)\n",
      "\n",
      "    def test_not_enough(self):\n",
      "        p = Portfolio()             # Didn't I just do this?\n",
      "        p.buy(\"MSFT\", 100, 27.0)\n",
      "        p.buy(\"DELL\", 100, 17.0)\n",
      "        p.buy(\"ORCL\", 100, 34.0)\n",
      "        with self.assertRaises(ValueError):\n",
      "            p.sell(\"MSFT\", 200)\n",
      "\n",
      "    def test_dont_own_it(self):\n",
      "        p = Portfolio()             # What, again!?!?\n",
      "        p.buy(\"MSFT\", 100, 27.0)\n",
      "        p.buy(\"DELL\", 100, 17.0)\n",
      "        p.buy(\"ORCL\", 100, 34.0)\n",
      "        with self.assertRaises(ValueError):\n",
      "            p.sell(\"IBM\", 1)\n"
     ],
     "language": "python",
     "metadata": {},
     "outputs": []
    },
    {
     "cell_type": "raw",
     "metadata": {},
     "source": [
      "L:\\dev\\testing\\python>python -m unittest test_port5\n",
      ".......\n",
      "----------------------------------------------------------------------\n",
      "Ran 7 tests in 0.001s\n",
      "\n",
      "OK"
     ]
    },
    {
     "cell_type": "code",
     "collapsed": false,
     "input": [
      "%load test_port6.py"
     ],
     "language": "python",
     "metadata": {},
     "outputs": [],
     "prompt_number": 44
    },
    {
     "cell_type": "code",
     "collapsed": false,
     "input": [
      "# test_port6.py\n",
      "# Redundant code is factored out into the setUp method\n",
      "# that gets invoked before each test method\n",
      "\n",
      "import unittest\n",
      "from portfolio2 import Portfolio\n",
      "\n",
      "class PortfolioTestCase(unittest.TestCase):\n",
      "    \"\"\"Base class for all Portfolio tests.\"\"\"\n",
      "\n",
      "    def assertCostEqual(self, p, cost):\n",
      "        \"\"\"Assert that `p`'s cost is equal to `cost`.\"\"\"\n",
      "        self.assertEqual(p.cost(), cost)\n",
      "\n",
      "\n",
      "class PortfolioTest(PortfolioTestCase):\n",
      "    def test_empty(self):\n",
      "        p = Portfolio()\n",
      "        self.assertCostEqual(p, 0.0)\n",
      "\n",
      "    def test_buy_one_stock(self):\n",
      "        p = Portfolio()\n",
      "        p.buy(\"IBM\", 100, 176.48)\n",
      "        self.assertCostEqual(p, 17648.0)\n",
      "\n",
      "    def test_buy_two_stocks(self):\n",
      "        p = Portfolio()\n",
      "        p.buy(\"IBM\", 100, 176.48)\n",
      "        p.buy(\"HPQ\", 100, 36.15)\n",
      "        self.assertCostEqual(p, 21263.0)\n",
      "\n",
      "    def test_bad_input(self):\n",
      "        p = Portfolio()\n",
      "        self.assertRaises(TypeError, p.buy, \"IBM\")\n",
      "\n",
      "class PortfolioSellTest(PortfolioTestCase):\n",
      "    # Invoked before each test method\n",
      "    def setUp(self):\n",
      "        self.p = Portfolio()\n",
      "        self.p.buy(\"MSFT\", 100, 27.0)\n",
      "        self.p.buy(\"DELL\", 100, 17.0)\n",
      "        self.p.buy(\"ORCL\", 100, 34.0)\n",
      "\n",
      "    def test_sell(self):\n",
      "        self.p.sell(\"MSFT\", 50)\n",
      "        self.assertCostEqual(self.p, 6450)\n",
      "\n",
      "    def test_not_enough(self):\n",
      "        with self.assertRaises(ValueError):\n",
      "            self.p.sell(\"MSFT\", 200)\n",
      "\n",
      "    def test_dont_own_it(self):\n",
      "        with self.assertRaises(ValueError):\n",
      "            self.p.sell(\"IBM\", 1)\n"
     ],
     "language": "python",
     "metadata": {},
     "outputs": []
    },
    {
     "cell_type": "raw",
     "metadata": {},
     "source": [
      "L:\\dev\\testing\\python>python -m unittest test_port6\n",
      ".......\n",
      "----------------------------------------------------------------------\n",
      "Ran 7 tests in 0.001s\n",
      "\n",
      "OK"
     ]
    },
    {
     "cell_type": "code",
     "collapsed": false,
     "input": [
      "# Under the covers\n",
      "\n",
      "testcase = PortfolioTest()\n",
      "\n",
      "try:\n",
      "    testcase.setUp()\n",
      "except:\n",
      "    # [record error]\n",
      "else:\n",
      "    try:\n",
      "        testcase.test_method()\n",
      "    except AssertionError:\n",
      "        # [record failure]\n",
      "    except:\n",
      "        # [record error]\n",
      "    else:\n",
      "        # [record success]\n",
      "    finally:\n",
      "        try:\n",
      "            testcase.tearDown()\n",
      "        except:\n",
      "            # [record error]\n"
     ],
     "language": "python",
     "metadata": {},
     "outputs": []
    },
    {
     "cell_type": "heading",
     "level": 3,
     "metadata": {},
     "source": [
      "setUp and tearDown: isolation!"
     ]
    },
    {
     "cell_type": "raw",
     "metadata": {},
     "source": [
      "establish context\n",
      "common pre- or post-work\n",
      "isolation, even with failures\n",
      "also: \"fixtures\"\n",
      "\n",
      "Tests are real code!\n",
      "helper functions, classes, etc.\n",
      "can become significant\n",
      "might need tests!"
     ]
    },
    {
     "cell_type": "heading",
     "level": 3,
     "metadata": {},
     "source": [
      "Mocks"
     ]
    },
    {
     "cell_type": "raw",
     "metadata": {},
     "source": [
      "Testing small amounts of code\n",
      "Introduce test \"stunt\" doubles\n",
      "\n",
      "Debugging becomes more focused, faster\n",
      "\n",
      "Systems are built in layers\n",
      "Components depend on each other\n",
      "How to test just one component?\n",
      "\n",
      "More suspect code in each test\n",
      "Replace/Remove\n",
      "  Slow components\n",
      "  Unpredictable components\n",
      "  A component's dependencies\n",
      "Focus on one component"
     ]
    },
    {
     "cell_type": "code",
     "collapsed": false,
     "input": [
      "%load portfolio3.py"
     ],
     "language": "python",
     "metadata": {},
     "outputs": [],
     "prompt_number": 47
    },
    {
     "cell_type": "code",
     "collapsed": false,
     "input": [
      "# portfolio3.py\n",
      "# gets current price value on yahoo.com\n",
      "\n",
      "import urllib\n",
      "import csv\n",
      "\n",
      "\n",
      "class Portfolio(object):\n",
      "    \"\"\"A simple stock portfolio\n",
      "\n",
      "    >>> p = Portfolio()\n",
      "    >>> p.cost()\n",
      "    0.0\n",
      "\n",
      "    >>> p.buy(\"IBM\", 100, 176.48)\n",
      "    >>> p.cost()\n",
      "    17648.0\n",
      "\n",
      "    >>> p.buy(\"HPQ\", 100, 36.15)\n",
      "    >>> p.cost()\n",
      "    21263.0\n",
      "\n",
      "    \"\"\"\n",
      "    def __init__(self):\n",
      "        # stocks is a list of lists:\n",
      "        #   [[name, shares, price], ...]\n",
      "        self.stocks = []\n",
      "\n",
      "    def buy(self, name, shares, price):\n",
      "        \"\"\"Buy `name`: `shares` shares at `price`.\"\"\"\n",
      "        self.stocks.append([name, shares, price])\n",
      "\n",
      "    def cost(self):\n",
      "        \"\"\"What was the total cost of this portfolio?\"\"\"\n",
      "        amt = 0.0\n",
      "        for name, shares, price in self.stocks:\n",
      "            amt += shares * price\n",
      "        return amt\n",
      "\n",
      "    def sell(self, name, shares):\n",
      "        \"\"\"Sell some number of shares of `name`.\"\"\"\n",
      "        for holding in self.stocks:\n",
      "            if holding[0] == name:\n",
      "                if holding[1] < shares:\n",
      "                    raise ValueError(\"Not enough shares\")\n",
      "                holding[1] -= shares\n",
      "                break\n",
      "        else:\n",
      "            raise ValueError(\"You don't own that stock\")\n",
      "\n",
      "    #(((value)))\n",
      "    def current_prices(self):\n",
      "        \"\"\"Return a dict mapping names to current prices.\"\"\"\n",
      "        url = \"http://finance.yahoo.com/d/quotes.csv?f=sl1&s=\"\n",
      "        url += \",\".join(sorted(s[0] for s in self.stocks))\n",
      "        data = urllib.urlopen(url)\n",
      "        return { sym: float(last) for sym, last in csv.reader(data) }\n",
      "\n",
      "    def value(self):\n",
      "        \"\"\"Return the current value of the portfolio.\"\"\"\n",
      "        prices = self.current_prices()\n",
      "        total = 0.0\n",
      "        for name, shares, _ in self.stocks:\n",
      "            total += shares * prices[name]\n",
      "        return total\n",
      "    #(((end)))\n"
     ],
     "language": "python",
     "metadata": {},
     "outputs": [],
     "prompt_number": 48
    },
    {
     "cell_type": "code",
     "collapsed": false,
     "input": [
      "p = Portfolio()\n",
      "p.buy('IBM', 100, 150.0)\n",
      "p.buy('HPQ', 100, 30.0)\n",
      "print 'Current prices:', p.current_prices()\n",
      "print 'Portfolio Value:', p.value()"
     ],
     "language": "python",
     "metadata": {},
     "outputs": [
      {
       "output_type": "stream",
       "stream": "stdout",
       "text": [
        "Current prices: "
       ]
      },
      {
       "output_type": "stream",
       "stream": "stdout",
       "text": [
        "{'HPQ': 32.49, 'IBM': 196.4}\n",
        "Portfolio Value: "
       ]
      },
      {
       "output_type": "stream",
       "stream": "stdout",
       "text": [
        "22889.0\n"
       ]
      }
     ],
     "prompt_number": 49
    },
    {
     "cell_type": "raw",
     "metadata": {},
     "source": [
      "But how to test it?\n",
      "\n",
      "Live data: unpredictable\n",
      "Slow?\n",
      "Unavailable?\n",
      "Question should be:\n",
      "   \"Assuming yahoo.com is working,\n",
      "    does my code work?\""
     ]
    },
    {
     "cell_type": "heading",
     "level": 3,
     "metadata": {},
     "source": [
      "Fake implementation of current prices"
     ]
    },
    {
     "cell_type": "code",
     "collapsed": false,
     "input": [
      "%load test_port7.py"
     ],
     "language": "python",
     "metadata": {},
     "outputs": [],
     "prompt_number": 50
    },
    {
     "cell_type": "code",
     "collapsed": false,
     "input": [
      "# test_port7.py\n",
      "\n",
      "import unittest\n",
      "from portfolio3 import Portfolio\n",
      "\n",
      "class PortfolioTest(unittest.TestCase):\n",
      "    def test_empty(self):\n",
      "        p = Portfolio()\n",
      "        self.assertEqual(p.cost(), 0.0)\n",
      "\n",
      "    def test_buy_one_stock(self):\n",
      "        p = Portfolio()\n",
      "        p.buy(\"IBM\", 100, 176.48)\n",
      "        self.assertEqual(p.cost(), 17648.0)\n",
      "\n",
      "    def test_buy_two_stocks(self):\n",
      "        p = Portfolio()\n",
      "        p.buy(\"IBM\", 100, 176.48)\n",
      "        p.buy(\"HPQ\", 100, 36.15)\n",
      "        self.assertEqual(p.cost(), 21263.0)\n",
      "\n",
      "    def test_bad_input(self):\n",
      "        p = Portfolio()\n",
      "        self.assertRaises(TypeError, p.buy, \"IBM\")\n",
      "\n",
      "class PortfolioSellTest(unittest.TestCase):\n",
      "    def setUp(self):\n",
      "        self.p = Portfolio()\n",
      "        self.p.buy(\"MSFT\", 100, 27.0)\n",
      "        self.p.buy(\"DELL\", 100, 17.0)\n",
      "        self.p.buy(\"ORCL\", 100, 34.0)\n",
      "\n",
      "    def test_sell(self):\n",
      "        self.p.sell(\"MSFT\", 50)\n",
      "        self.assertEqual(self.p.cost(), 6450)\n",
      "\n",
      "    def test_not_enough(self):\n",
      "        with self.assertRaises(ValueError):\n",
      "            self.p.sell(\"MSFT\", 200)\n",
      "\n",
      "    def test_dont_own_it(self):\n",
      "        with self.assertRaises(ValueError):\n",
      "            self.p.sell(\"IBM\", 1)\n",
      "\n",
      "# Replace Portfolio.current_prices with a stub implementation.\n",
      "# This avoids the web, but also skips all our current_prices\n",
      "# code.\n",
      "class PortfolioValueTest(unittest.TestCase):\n",
      "    def fake_current_prices(self):\n",
      "        return {'IBM': 140.0, 'HPQ': 32.0}\n",
      "\n",
      "    def setUp(self):\n",
      "        self.p = Portfolio()\n",
      "        self.p.buy(\"IBM\", 100, 120.0)\n",
      "        self.p.buy(\"HPQ\", 100, 30.0)\n",
      "        # monkey patch, replace the method on the test object\n",
      "        self.p.current_prices = self.fake_current_prices\n",
      "\n",
      "    def test_value(self):\n",
      "        self.assertEqual(self.p.value(), 17200)\n"
     ],
     "language": "python",
     "metadata": {},
     "outputs": []
    },
    {
     "cell_type": "raw",
     "metadata": {},
     "source": [
      "L:\\dev\\testing\\python>python -m unittest test_port7\n",
      "........\n",
      "----------------------------------------------------------------------\n",
      "Ran 8 tests in 0.001s\n",
      "\n",
      "OK"
     ]
    },
    {
     "cell_type": "raw",
     "metadata": {},
     "source": [
      "This is very simple, and neatly solves a number of our problems: the code no longer contacts Yahoo, so it is fast and reliable, and it always produces the same value, so we can predict what values our .value() method should return."
     ]
    },
    {
     "cell_type": "raw",
     "metadata": {},
     "source": [
      "But we may have gone too far: none of our actual current_prices() method is tested now. Here I've used coverage.py to measure what product lines are executed during testing, and it shows us that lines 53 through 56 are not executed. Those are the body of the current_prices() method.\n",
      "\n",
      "That's our code, and we need to test it somehow. We got isolation from Yahoo, but we removed some of our own code in the process."
     ]
    },
    {
     "cell_type": "raw",
     "metadata": {},
     "source": [
      "L:\\dev\\testing\\python>coverage report -m\n",
      "Name         Stmts   Miss  Cover   Missing\n",
      "------------------------------------------\n",
      "portfolio3      31     22    29%   26, 30, 34-37, 41-48, 53-56, 60-64\n",
      "test_port7      43     27    37%   8-9, 12-14, 17-20, 23-24, 28-31, 34-35, 38-39\n",
      ", 42-43, 50, 53-56, 59\n",
      "------------------------------------------\n",
      "TOTAL           74     49    34%"
     ]
    },
    {
     "cell_type": "raw",
     "metadata": {},
     "source": [
      "To test our code but still not use Yahoo, we can intercept the flow lower down. Our current_prices() method uses the urllib module to make the HTTP request to Yahoo. We can replace urllib to let our code run, but not make a real network request.\n",
      "\n",
      "Here we define a class called FakeUrlLib with a method called urlopen that will be the test double for urllib.urlopen(). Our fake implementation simply returns a file object that provides the same stream of bytes that Yahoo would have returned:"
     ]
    },
    {
     "cell_type": "code",
     "collapsed": false,
     "input": [
      "%load test_port8.py"
     ],
     "language": "python",
     "metadata": {},
     "outputs": [],
     "prompt_number": 51
    },
    {
     "cell_type": "code",
     "collapsed": false,
     "input": [
      "# test_port8.py\n",
      "\n",
      "import unittest\n",
      "from portfolio3 import Portfolio\n",
      "import portfolio3\n",
      "from cStringIO import StringIO\n",
      "\n",
      "class PortfolioTest(unittest.TestCase):\n",
      "    def test_empty(self):\n",
      "        p = Portfolio()\n",
      "        self.assertEqual(p.cost(), 0.0)\n",
      "\n",
      "    def test_buy_one_stock(self):\n",
      "        p = Portfolio()\n",
      "        p.buy(\"IBM\", 100, 176.48)\n",
      "        self.assertEqual(p.cost(), 17648.0)\n",
      "\n",
      "    def test_buy_two_stocks(self):\n",
      "        p = Portfolio()\n",
      "        p.buy(\"IBM\", 100, 176.48)\n",
      "        p.buy(\"HPQ\", 100, 36.15)\n",
      "        self.assertEqual(p.cost(), 21263.0)\n",
      "\n",
      "    def test_bad_input(self):\n",
      "        p = Portfolio()\n",
      "        self.assertRaises(TypeError, p.buy, \"IBM\")\n",
      "\n",
      "class PortfolioSellTest(unittest.TestCase):\n",
      "    def setUp(self):\n",
      "        self.p = Portfolio()\n",
      "        self.p.buy(\"MSFT\", 100, 27.0)\n",
      "        self.p.buy(\"DELL\", 100, 17.0)\n",
      "        self.p.buy(\"ORCL\", 100, 34.0)\n",
      "\n",
      "    def test_sell(self):\n",
      "        self.p.sell(\"MSFT\", 50)\n",
      "        self.assertEqual(self.p.cost(), 6450)\n",
      "\n",
      "    def test_not_enough(self):\n",
      "        with self.assertRaises(ValueError):\n",
      "            self.p.sell(\"MSFT\", 200)\n",
      "\n",
      "    def test_dont_own_it(self):\n",
      "        with self.assertRaises(ValueError):\n",
      "            self.p.sell(\"IBM\", 1)\n",
      "\n",
      "#(((fake)))\n",
      "# A simple fake for urllib that implements only one method,\n",
      "# and is only good for one request.  You can make this much\n",
      "# more complex for your own needs.\n",
      "class FakeUrllib(object):\n",
      "    def urlopen(self, url):\n",
      "        return StringIO('\"IBM\",140\\n\"HPQ\",32\\n')\n",
      "\n",
      "class PortfolioValueTest(unittest.TestCase):\n",
      "    def setUp(self):\n",
      "        # Save the real urllib, and install our fake.\n",
      "        self.old_urllib = portfolio3.urllib\n",
      "        portfolio3.urllib = FakeUrllib()\n",
      "\n",
      "        self.p = Portfolio()\n",
      "        self.p.buy(\"IBM\", 100, 120.0)\n",
      "        self.p.buy(\"HPQ\", 100, 30.0)\n",
      "\n",
      "    def test_value(self):\n",
      "        self.assertEqual(self.p.value(), 17200)\n",
      "\n",
      "    def tearDown(self):\n",
      "        # Restore the real urllib.\n",
      "        portfolio3.urllib = self.old_urllib\n",
      "#(((end)))\n"
     ],
     "language": "python",
     "metadata": {},
     "outputs": []
    },
    {
     "cell_type": "raw",
     "metadata": {},
     "source": [
      "In our test's setUp() method, we replace the urllib reference in our product code with our fake implementation. When the test method runs, our FakeUrlLib object will be invoked instead of the urllib module, it will return its canned response, and our code will process it just as if it had come from Yahoo.\n",
      "\n",
      "Notice that the product code uses a module with a function, and we are replacing it with an object with a method. That's fine, Python's dynamic nature means that it doesn't matter what \"urllib\" is defined as, so long as it has a .urlopen attribute that is callable, the product code will be fine.\n",
      "\n",
      "This sort of manipulation is one place where Python really shines, since types and access protection don't constrain what we can do to create the test environment we want."
     ]
    },
    {
     "cell_type": "raw",
     "metadata": {},
     "source": [
      "Now the coverage report shows that all of our code has been executed. By stubbing the standard library, we cut off the component dependencies at just the right point: where our code (current_prices) started calling someone else's code (urllib.urlopen)."
     ]
    },
    {
     "cell_type": "heading",
     "level": 3,
     "metadata": {},
     "source": [
      "Mock Objects"
     ]
    },
    {
     "cell_type": "raw",
     "metadata": {},
     "source": [
      "A more powerful way to create test doubles is with Mock objects. The mock library (third-party for 2.7, in the standard library for 3.3) provides the Mock class. This object will happily act like any object you please. You can set a return_value on it, and when called, it will return that value. Then you can ask what arguments it was called with.\n",
      "\n",
      "Mock objects can do other magic things, but these two behaviors give us what we need for now."
     ]
    },
    {
     "cell_type": "code",
     "collapsed": false,
     "input": [
      "%load test_port9.py"
     ],
     "language": "python",
     "metadata": {},
     "outputs": [],
     "prompt_number": 53
    },
    {
     "cell_type": "code",
     "collapsed": false,
     "input": [
      "# test_port9.py\n",
      "\n",
      "import unittest\n",
      "from cStringIO import StringIO\n",
      "import mock\n",
      "\n",
      "from portfolio3 import Portfolio\n",
      "\n",
      "\n",
      "class PortfolioTest(unittest.TestCase):\n",
      "    def test_empty(self):\n",
      "        p = Portfolio()\n",
      "        self.assertEqual(p.cost(), 0.0)\n",
      "\n",
      "    def test_buy_one_stock(self):\n",
      "        p = Portfolio()\n",
      "        p.buy(\"IBM\", 100, 176.48)\n",
      "        self.assertEqual(p.cost(), 17648.0)\n",
      "\n",
      "    def test_buy_two_stocks(self):\n",
      "        p = Portfolio()\n",
      "        p.buy(\"IBM\", 100, 176.48)\n",
      "        p.buy(\"HPQ\", 100, 36.15)\n",
      "        self.assertEqual(p.cost(), 21263.0)\n",
      "\n",
      "    def test_bad_input(self):\n",
      "        p = Portfolio()\n",
      "        self.assertRaises(TypeError, p.buy, \"IBM\")\n",
      "\n",
      "class PortfolioSellTest(unittest.TestCase):\n",
      "    def setUp(self):\n",
      "        self.p = Portfolio()\n",
      "        self.p.buy(\"MSFT\", 100, 27.0)\n",
      "        self.p.buy(\"DELL\", 100, 17.0)\n",
      "        self.p.buy(\"ORCL\", 100, 34.0)\n",
      "\n",
      "    def test_sell(self):\n",
      "        self.p.sell(\"MSFT\", 50)\n",
      "        self.assertEqual(self.p.cost(), 6450)\n",
      "\n",
      "    def test_not_enough(self):\n",
      "        with self.assertRaises(ValueError):\n",
      "            self.p.sell(\"MSFT\", 200)\n",
      "\n",
      "    def test_dont_own_it(self):\n",
      "        with self.assertRaises(ValueError):\n",
      "            self.p.sell(\"IBM\", 1)\n",
      "\n",
      "#(((mock)))\n",
      "class PortfolioValueTest(unittest.TestCase):\n",
      "    def setUp(self):\n",
      "        self.p = Portfolio()\n",
      "        self.p.buy(\"IBM\", 100, 120.0)\n",
      "        self.p.buy(\"HPQ\", 100, 30.0)\n",
      "\n",
      "    def test_value(self):\n",
      "        # Create a mock urllib.urlopen.\n",
      "        with mock.patch('urllib.urlopen') as urlopen:\n",
      "\n",
      "            # When called, it will return this value:\n",
      "            fake_yahoo = StringIO('\"IBM\",140\\n\"HPQ\",32\\n')\n",
      "            urlopen.return_value = fake_yahoo\n",
      "\n",
      "            # Run the test!\n",
      "            self.assertEqual(self.p.value(), 17200)\n",
      "\n",
      "            # We can ask the mock what its arguments were.\n",
      "            urlopen.assert_called_with(\n",
      "                \"http://finance.yahoo.com/d/quotes.csv\"\n",
      "                \"?f=sl1&s=HPQ,IBM\"\n",
      "                )\n",
      "#(((end)))\n"
     ],
     "language": "python",
     "metadata": {},
     "outputs": []
    },
    {
     "cell_type": "raw",
     "metadata": {},
     "source": [
      "In our test method, we use a context manager provided by mock: mock.patch will replace the given name with a mock object, and give us the mock object so we can manipulate it.\n",
      "\n",
      "We mock out urllib.urlopen, and then set the value it should return. We use the same open file object that we did in the last example, which just mimics the bytes that Yahoo would return to us.\n",
      "\n",
      "Then we can run the product code, which will call current_prices, which will call urllib.urlopen, which is now our mock object. It will return our mocked return value, and produce the expected portfolio value.\n",
      "\n",
      "Mock objects also have a handy method on them called .assert_called_with() that let us make assertions about the arguments the mock object was passed. This gives us certainty that our code called the external component properly.\n",
      "\n",
      "When the with statement ends, the mock.patch context manager cleans up, restoring urllib.urlopen to it original value.\n",
      "\n",
      "The net result is a clean self-contained test double, with assertions about how it was called."
     ]
    },
    {
     "cell_type": "heading",
     "level": 3,
     "metadata": {},
     "source": [
      "Test Doubles & Dependency Injection"
     ]
    },
    {
     "cell_type": "raw",
     "metadata": {},
     "source": [
      "Test doubles are a big topic all of their own. I wanted to give you a quick taste of what they are and what they can do. Using them will dramatically improve the isolation, and therefore the speed and usefulness of your tests.\n",
      "\n",
      "Notice though, that they also make our tests more fragile. I tested current_prices by mocking urllib.urlopen, which only works because I knew that current_prices called urlopen. If I later change the implementation of current_prices to access the URL differently, my test will break.\n",
      "\n",
      "Finding the right way to use test doubles is a very tricky problem, involving tradeoffs between what code is tested, and how dependent on the implementation you want to be.\n",
      "\n",
      "Another test double technique is \"dependency injection,\" where your code is given explicit references to the components it relies on. This way, the dependencies are made more visible. This also makes them more visible to the non-test callers of the code, which you might not want. But it can also make the code more modular, since it has fewer implicit connections to other components. Again, this is a tradeoff, and you have to choose carefully how deeply to use the technique."
     ]
    },
    {
     "cell_type": "heading",
     "level": 3,
     "metadata": {},
     "source": [
      "Other topics and tools"
     ]
    },
    {
     "cell_type": "raw",
     "metadata": {},
     "source": [
      "Other tools:\n",
      "\n",
      "addCleanup is a method on test cases. It lets you register clean up functions to be called when the test is done. This has the advantage that partially set up tests can be torn down, and you can register clean up functions in the body of tests if you like.\n",
      "doctest is another module in the standard library for writing tests. It executes Python code embedded in docstrings. Some people love it, but most developers think it should only be used for testing code that naturally appears in docstrings, and not for anything else.\n",
      "nose and py.test are alternative test runners. They will run your unittest tests, but have a ton of extra features, and plugins.\n",
      "ddt is a package for writing data-driven tests. This lets you write one test method, then feed it a number of different data cases, and it will split out your test method into a number of methods, one for each data case. This lets each one succeed or fail independently.\n",
      "coverage.py runs your code, and measures which lines executed and which did not. This is a way of testing your tests to see how much of your product code is covered by your tests.\n",
      "Selenium is a tool for running tests of web sites. It automates a browser to run your tests in an actual browser, so you can incorporate the behavior of Javascript code and browser behaviors into your tests.\n",
      "Jenkins and Travis are continuous-integration servers. They run your test suite automatically, for example, whenever you make a commit to your repo. Running your tests automatically on a server lets your tests results be shared among all collaborators, and historical results kept for tracking progress."
     ]
    },
    {
     "cell_type": "raw",
     "metadata": {},
     "source": [
      "Other topics:\n",
      "\n",
      "Test-driven development (TDD) is a style of development where you write tests before you write your code. This isn't so much to ensure that your code is tested as it is to give you a chance to think hard about how your code will be used before you write the code. Advocates of the style claim your code will be better designed as a result, and you have the tests as a side-benefit.\n",
      "Behavior-driven development (BDD) uses specialized languages such as Cucumber and Lettuce to write tests. These languages provide a higher level of description and focus on the external user-visible behavior of your product code.\n",
      "In this talk, I've focused on unit tests, which try to test as small a chunk of code as possible. Integration tests work on larger chunks, after components have been integrated together. The scale continues on to system tests (of the entire system), and acceptance tests (user-visible behavior). There is no crisp distinction between these categories, they fall on a spectrum of scale.\n",
      "Load testing is the process of generating synthetic traffic to a web site or other concurrent system to determine its behavior as the traffic load increases. Specialized tools can help generate the traffic and record response times as the load changes."
     ]
    },
    {
     "cell_type": "code",
     "collapsed": false,
     "input": [
      "if __name__ == \"__main__\":\n",
      "    sys.exit(main(sys.argv))"
     ],
     "language": "python",
     "metadata": {},
     "outputs": []
    },
    {
     "cell_type": "code",
     "collapsed": false,
     "input": [
      "#!/usr/bin/env python\n",
      "#\n",
      "#  NOTE: This is for tests in a stand-alone program, which is not\n",
      "#        implemented as a python module that could be otherwise\n",
      "#        imported by the test code, so it has inline tests.\n",
      "#\n",
      "#===============\n",
      "#  This is based on a skeleton test file, more information at:\n",
      "#\n",
      "#     https://github.com/linsomniac/python-unittest-skeleton\n",
      "\n",
      "raise NotImplementedError(\n",
      "        'To customize, remove this line and customize where it says XXX')\n",
      "\n",
      "import sys\n",
      "import unittest\n",
      "\n",
      "##################################\n",
      "#  XXX Your program code goes here\n",
      "##################################\n",
      "\n",
      "\n",
      "def run_tests():\n",
      "    class __unit_tests__(unittest.TestCase):\n",
      "        def setUp(self):\n",
      "            ###  XXX code to do setup\n",
      "            pass\n",
      "\n",
      "        def tearDown(self):\n",
      "            ###  XXX code to do tear down\n",
      "            pass\n",
      "\n",
      "        def test_XXX_Test_Name(self):\n",
      "            raise NotImplementedError('Insert test code here.')\n",
      "            #  Examples:\n",
      "            # self.assertEqual(fp.readline(), 'This is a test')\n",
      "            # self.assertFalse(os.path.exists('a'))\n",
      "            # self.assertTrue(os.path.exists('a'))\n",
      "            # self.assertTrue('already a backup server' in c.stderr)\n",
      "            # self.assertIn('fun', 'disfunctional')\n",
      "            # self.assertNotIn('crazy', 'disfunctional')\n",
      "            # with self.assertRaises(Exception):\n",
      "            #     raise Exception('test')\n",
      "\n",
      "    suite = unittest.TestLoader().loadTestsFromTestCase(__unit_tests__)\n",
      "    unittest.TextTestRunner(verbosity=2).run(suite)\n",
      "\n",
      "if __name__ == '__main__':\n",
      "    if 'test' in sys.argv[1:]:\n",
      "        run_tests()\n",
      "        sys.exit(0)"
     ],
     "language": "python",
     "metadata": {},
     "outputs": []
    }
   ],
   "metadata": {}
  }
 ]
}